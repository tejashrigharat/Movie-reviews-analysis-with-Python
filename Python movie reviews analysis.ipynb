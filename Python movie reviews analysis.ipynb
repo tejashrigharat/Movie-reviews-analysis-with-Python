{
 "cells": [
  {
   "cell_type": "markdown",
   "metadata": {},
   "source": [
    "**Common functions and declarations**"
   ]
  },
  {
   "cell_type": "markdown",
   "metadata": {},
   "source": [
    "**References:**\n",
    "1.\thttps://www.sciencedirect.com/topics/computer-science/cosine-similarity#:~:text=Cosine%20similarity%20measures%20the%20similarity,in%20roughly%20the%20same%20direction.&text=Thus%2C%20each%20document%20is%20an,called%20a%20term%2Dfrequency%20vector.\n",
    "2.\thttps://stackoverflow.com/questions/2887878/importing-a-csv-file-into-a-sqlite3-database-table-using-python"
   ]
  },
  {
   "cell_type": "code",
   "execution_count": 56,
   "metadata": {},
   "outputs": [
    {
     "name": "stderr",
     "output_type": "stream",
     "text": [
      "[nltk_data] Downloading package stopwords to\n",
      "[nltk_data]     C:\\Users\\tejug\\AppData\\Roaming\\nltk_data...\n",
      "[nltk_data]   Package stopwords is already up-to-date!\n"
     ]
    }
   ],
   "source": [
    "import urllib.request, urllib.parse, urllib.error\n",
    "from bs4 import BeautifulSoup\n",
    "import ssl\n",
    "import requests\n",
    "import csv\n",
    "import io\n",
    "import re\n",
    "from scipy import spatial\n",
    "import collections\n",
    "import sqlite3\n",
    "import nltk\n",
    "from nltk.corpus import stopwords\n",
    "nltk.download('stopwords')\n",
    "from nltk.tokenize import word_tokenize\n",
    "import pandas as pd\n",
    "\n",
    "# Ignore SSL certificate errors\n",
    "ctx = ssl.create_default_context()\n",
    "ctx.check_hostname = False\n",
    "ctx.verify_mode = ssl.CERT_NONE\n",
    "\n",
    "headers = {'User-Agent': 'Mozilla/5.0 (Macintosh; Intel Mac OS X 10_13_6) AppleWebKit/537.36 (KHTML, like Gecko) Chrome/70.0.3538.77 Safari/537.36'}\n",
    "\n",
    "# Open link and parse the content\n",
    "def open_url(url):\n",
    "    page = requests.get(url, headers = headers)\n",
    "    soup = BeautifulSoup(page.content, \"html.parser\")\n",
    "    return soup\n",
    "\n",
    "def review_words(review):\n",
    "    review2 = re.sub(r'[^\\w\\s]','',review.strip().lower())\n",
    "    review2 = re.sub('[0-9]','',review2)\n",
    "    text_token = word_tokenize(review2)\n",
    "    review3 = [word for word in text_token if not word in stopwords.words()]\n",
    "    \n",
    "    return(review3) "
   ]
  },
  {
   "cell_type": "markdown",
   "metadata": {},
   "source": [
    "## IMDB"
   ]
  },
  {
   "cell_type": "code",
   "execution_count": 32,
   "metadata": {},
   "outputs": [],
   "source": [
    "# IMDB\n",
    "imdb_url = 'https://www.imdb.com/chart/top/'\n",
    "soup = open_url(imdb_url)\n",
    "\n",
    "# Find all the movies\n",
    "container = soup.find_all('td', class_ = 'titleColumn')\n",
    "\n",
    "# Extract top 50 movies\n",
    "movies = container[:50]\n",
    "root = r'https://www.imdb.com/'\n",
    "# imdb_m_dict is the dictionary with movie names and corresponding link\n",
    "imdb_m_dict = {}\n",
    "for movie in movies: \n",
    "    m_name = movie.find('a').text\n",
    "    tag = movie.find('a')\n",
    "    link = tag.get('href', None)\n",
    "    imdb_m_dict[m_name] = root+link\n",
    "\n",
    "revire_link = 'reviews?ref_=tt_ov_rt'\n",
    "# Function to get movie reviews\n",
    "def imdb_review():\n",
    "    reviews_collection = []\n",
    "    mv = {}\n",
    "    for item in imdb_m_dict:\n",
    "        l = imdb_m_dict[item]\n",
    "        # Generate review link in x\n",
    "        x = l[:38]+revire_link\n",
    "    \n",
    "        # Open url for all reviews and parse the content\n",
    "        soup_review = open_url(x)\n",
    "        \n",
    "        r_container = soup_review.find_all('div', class_ = 'lister-item')\n",
    "        \n",
    "        # Get review for a movie and store in list m_reviews\n",
    "        m_reviews = []\n",
    "        for r in r_container:\n",
    "            review1 = r.find('div', class_ = 'text').text\n",
    "            review1 = re.sub('[^\\w\\s]','',review1)\n",
    "            m_reviews.append(review1)\n",
    "        tag = soup_review.find('div',class_='load-more-data')\n",
    "        ajaxurl = tag.get('data-ajaxurl',None)\n",
    "        datakey = tag.get('data-key',None)\n",
    "        second_page = f'https://www.imdb.com/{ajaxurl}?paginationKey={datakey}'\n",
    "        soup_review2 = open_url(second_page)\n",
    "        r_container2 = soup_review2.find_all('div', class_ = 'lister-item')\n",
    "\n",
    "        # Get review from page 2 for a movie and apeend the list m_reviews\n",
    "        for r in r_container2:\n",
    "            review2 = r.find('div', class_ = 'text').text\n",
    "            review2 = re.sub('[^\\w\\s]','',review2)\n",
    "            m_reviews.append(review2)\n",
    "\n",
    "        mv[item] = m_reviews\n",
    "        reviews_collection.append(m_reviews)\n",
    "    # Return dictionary containing movie name and reviews\n",
    "    return mv, reviews_collection    \n",
    "\n",
    "\n",
    "imdb_d,imdb_allreviews = imdb_review()"
   ]
  },
  {
   "cell_type": "code",
   "execution_count": 34,
   "metadata": {},
   "outputs": [],
   "source": [
    "# Write movie reviews to a csv file\n",
    "data_imdb = pd.DataFrame.from_dict(imdb_d, orient='index')\n",
    "data_imdb = data_imdb.transpose()\n",
    "data_imdb.to_csv('Tejashri_reviews_imdb.csv')"
   ]
  },
  {
   "cell_type": "code",
   "execution_count": 71,
   "metadata": {},
   "outputs": [
    {
     "name": "stdout",
     "output_type": "stream",
     "text": [
      "{'shawshank': 95, 'redemption': 55, 'written': 6, 'directed': 2, 'frank': 12, 'darabont': 20, 'adaptation': 2, 'stephen': 12, 'king': 17, 'novella': 10, 'rita': 9, 'hayworth': 8, 'starring': 3, 'tim': 22, 'robbins': 35, 'morgan': 26, 'freeman': 37, 'film': 134, 'portrays': 4, 'story': 40, 'andy': 55, 'dufresne': 15, 'banker': 7, 'sentenced': 4, 'two': 18, 'life': 44, 'sentences': 2, 'state': 6, 'prison': 72, 'apparently': 2, 'murdering': 6, 'wife': 12, 'lover': 9, 'finds': 7, 'tough': 4, 'going': 21, 'solace': 3, 'friendship': 14, 'forms': 4, 'fellow': 5, 'inmate': 7, 'ellis': 5, 'red': 31, 'redding': 5, 'things': 19, 'start': 3, 'pick': 1, 'warden': 13, 'job': 2, 'befitting': 1, 'talents': 1, 'however': 14, 'arrival': 1, 'another': 8, 'vastly': 1, 'change': 3, 'themthere': 1, 'fanfare': 1, 'bunting': 1, 'put': 7, 'release': 3, 'back': 5, 'title': 11, 'didnt': 14, 'give': 6, 'much': 16, 'inkling': 1, 'anyone': 9, 'columbia': 1, 'pictures': 3, 'unsure': 1, 'market': 1, 'barely': 1, 'registered': 1, 'box': 8, 'office': 9, 'academy': 9, 'award': 3, 'time': 46, 'received': 2, 'several': 1, 'nominations': 2, 'although': 3, 'none': 4, 'stirred': 1, 'interest': 5, 'home': 5, 'entertainment': 2, 'rest': 4, 'say': 22, 'history': 6, 'finally': 5, 'found': 4, 'audience': 12, 'saw': 10, 'propelled': 1, 'almost': 13, 'mythical': 2, 'proportions': 1, 'endearing': 1, 'modern': 5, 'day': 13, 'classic': 6, 'something': 10, 'delighted': 1, 'fans': 4, 'whilst': 1, 'simultaneously': 1, 'baffling': 1, 'detractors': 1, 'thing': 16, 'sure': 5, 'though': 10, 'ever': 42, 'side': 1, 'fence': 1, 'continues': 1, 'gather': 1, 'new': 9, 'simply': 7, 'never': 26, 'go': 14, 'away': 8, 'loose': 1, 'statusits': 1, 'possibly': 5, 'simplicity': 2, 'sends': 1, 'haters': 1, 'cinematic': 3, 'spasms': 1, 'implausible': 1, 'plot': 6, 'apparent': 1, 'sentimental': 3, 'edge': 1, 'makes': 21, 'nonsense': 1, 'chief': 1, 'complaints': 1, 'dislike': 1, 'passion': 2, 'yet': 15, 'characters': 18, 'richly': 1, 'drawn': 2, 'movingly': 1, 'performed': 1, 'strikes': 1, 'churlish': 1, 'human': 12, 'drama': 10, 'thats': 5, 'dealing': 2, 'hope': 52, 'faith': 5, 'aspect': 2, 'indeed': 2, 'acts': 2, 'counterpoint': 1, 'suffering': 1, 'degradation': 1, 'shattering': 1, 'soul': 11, 'involving': 1, 'protagonist': 1, 'cosy': 1, 'chance': 4, 'need': 12, 'connection': 1, 'needed': 1, 'incarceration': 1, 'surely': 3, 'given': 5, 'quite': 11, 'terrific': 3, 'performances': 11, 'better': 16, 'sublimely': 1, 'making': 7, 'easy': 6, 'easiest': 1, 'world': 18, 'warm': 3, 'redthose': 1, 'support': 1, 'arent': 3, 'faring': 1, 'bad': 5, 'either': 3, 'bob': 10, 'gunton': 9, 'coiled': 1, 'spring': 1, 'smarm': 1, 'norton': 6, 'james': 7, 'whitmore': 6, 'heart': 12, 'achingly': 1, 'great': 32, 'birdman': 2, 'clancy': 4, 'brown': 4, 'menacing': 1, 'antagonist': 1, 'capt': 1, 'byron': 1, 'hadley': 1, 'william': 3, 'sadler': 3, 'amusing': 1, 'heywood': 1, 'mark': 2, 'rolston': 2, 'impressively': 1, 'vile': 2, 'bogs': 1, 'diamond': 1, 'theres': 7, 'roger': 3, 'deakins': 3, 'lush': 1, 'cinematography': 9, 'camera': 2, 'gracefully': 2, 'glides': 1, 'offering': 1, 'ethereal': 1, 'yes': 6, 'music': 10, 'pings': 1, 'conjunction': 1, 'emotional': 9, 'flow': 1, 'movie': 143, 'thomas': 3, 'newmans': 2, 'score': 11, 'mostly': 1, 'piano': 2, 'based': 2, 'dovetailing': 1, 'neatly': 1, 'andys': 9, 'mind': 8, 'excellently': 2, 'selected': 1, 'soundtrack': 7, 'ranges': 1, 'likes': 1, 'hank': 1, 'williams': 1, 'gorgeous': 3, 'nozze': 1, 'figaro': 1, 'mozartif': 1, 'love': 18, 'lasts': 1, 'lifetime': 3, 'every': 23, 'viewing': 7, 'brings': 5, 'array': 2, 'emotions': 9, 'anger': 1, 'revilement': 1, 'happiness': 2, 'sadness': 1, 'inspiration': 2, 'warmth': 2, 'reduce': 1, 'hardened': 2, 'misty': 1, 'eyed': 1, 'wonderment': 1, 'else': 3, 'offers': 2, 'us': 20, 'write': 5, 'th': 2, 'comment': 4, 'everything': 8, 'could': 21, 'said': 15, 'like': 41, 'many': 37, 'people': 31, 'wrote': 3, 'comments': 5, 'profoundly': 2, 'moved': 2, 'simple': 9, 'eloquent': 2, 'depiction': 3, 'seen': 32, 'effects': 7, 'strongly': 3, 'kill': 4, 'mockingbird': 4, 'movies': 32, 'leave': 3, 'feeling': 7, 'cleaner': 2, 'watched': 9, 'themi': 2, 'intend': 2, 'see': 32, 'dont': 27, 'normally': 3, 'watch': 19, 'work': 9, 'branch': 2, 'library': 3, 'checking': 2, 'older': 3, 'patrons': 2, 'whenever': 3, 'feel': 20, 'depressed': 2, 'check': 4, 'always': 6, 'thought': 5, 'strange': 2, 'nothing': 3, 'tv': 2, 'except': 2, 'absolutely': 7, 'would': 21, 'circumstance': 2, 'times': 19, 'already': 9, 'remembered': 3, 'since': 9, 'gets': 9, 'showingno': 2, 'action': 6, 'special': 7, 'uniforms': 3, 'talking': 7, 'otherthe': 2, 'best': 62, 'judge': 3, 'technical': 2, 'merits': 2, 'really': 23, 'read': 4, 'citizen': 3, 'kane': 3, 'godfather': 5, 'made': 20, 'may': 6, 'technique': 2, 'influential': 3, 'motion': 3, 'ones': 3, 'touch': 5, 'takes': 11, 'oscar': 7, 'year': 3, 'nominated': 8, 'seven': 8, 'awards': 5, 'walked': 1, 'zero': 1, 'picture': 4, 'went': 4, 'forrest': 7, 'gump': 6, 'pulp': 4, 'fiction': 3, 'happy': 3, 'course': 7, 'hindsight': 1, 'looks': 2, 'good': 25, 'alltime': 1, 'success': 3, 'word': 5, 'huge': 4, 'splash': 1, 'cannes': 1, 'writerdirector': 1, 'american': 1, 'master': 3, 'films': 25, 'co': 1, 'fortunately': 1, 'failure': 2, 'wasnt': 3, 'sentenceafter': 1, 'opening': 5, 'screens': 1, 'fell': 1, 'fast': 3, 'theatres': 1, 'finished': 2, 'mere': 1, 'reasons': 3, 'firstly': 1, 'clunker': 1, 'iconic': 1, 'today': 3, 'knew': 2, 'cared': 1, 'dvd': 2, 'laughs': 1, 'recounting': 1, 'congratulating': 1, 'rickshaw': 1, 'marketingwise': 1, 'nightmare': 2, 'sell': 1, 'women': 1, 'friends': 14, 'doesnt': 4, 'spell': 1, 'winner': 1, 'worst': 2, 'slow': 2, 'molasses': 1, 'desson': 1, 'thomson': 1, 'writes': 2, 'washington': 1, 'post': 1, 'wanders': 1, 'subplots': 1, 'opportunity': 1, 'ignores': 1, 'abundance': 1, 'narrative': 1, 'exit': 1, 'points': 2, 'settling': 1, 'finale': 2, 'weaknesses': 1, 'make': 9, 'strongfirstly': 1, 'setting': 3, 'aerial': 1, 'shots': 2, 'total': 1, 'eyeopener': 1, 'amazing': 8, 'piece': 4, 'architecture': 1, 'strong': 5, 'gothic': 2, 'design': 1, 'immediately': 3, 'becomes': 4, 'character': 12, 'casts': 1, 'shadow': 3, 'tall': 2, 'stone': 3, 'walls': 9, 'stretching': 1, 'shot': 5, 'towers': 1, 'contains': 3, 'blotting': 1, 'memories': 2, 'outside': 5, 'holds': 1, 'onto': 2, 'sandy': 2, 'beaches': 1, 'zihuatanejo': 1, 'heres': 1, 'says': 6, 'forget': 6, 'places': 2, 'inside': 5, 'cant': 9, 'think': 19, 'first': 24, 'picking': 1, 'glass': 1, 'milk': 1, 'silver': 1, 'spoon': 1, 'ass': 1, 'fish': 1, 'crack': 1, 'losing': 1, 'bet': 2, 'resents': 1, 'get': 23, 'know': 14, 'quickly': 1, 'become': 6, 'major': 2, 'strengths': 1, 'flicks': 1, 'sidekick': 2, 'hero': 2, 'honestly': 1, 'seems': 4, 'odd': 2, 'hollywood': 11, 'skip': 2, 'relationship': 4, 'weighs': 1, 'everyones': 2, 'lives': 3, 'perhaps': 8, 'seem': 6, 'conventional': 2, 'shawshanks': 2, 'core': 2, 'hits': 1, 'right': 7, 'notes': 1, 'itits': 1, 'pacing': 1, 'deliberate': 1, 'well': 22, 'spend': 2, 'watching': 9, 'actors': 9, 'timeline': 1, 'spans': 1, 'years': 29, 'measure': 1, 'pass': 5, 'slowly': 2, 'reality': 1, 'amplified': 1, 'lacks': 1, 'moments': 2, 'still': 17, 'knows': 4, 'merely': 1, 'intends': 1, 'taking': 1, 'sweet': 1, 'getting': 2, 'pays': 1, 'tedium': 1, 'climax': 2, 'exhilarating': 2, 'sees': 2, 'moment': 5, 'forgottenwith': 1, 'themes': 2, 'definite': 1, 'religious': 1, 'subtext': 1, 'quiet': 1, 'selfless': 1, 'carefree': 1, 'obvious': 1, 'christ': 1, 'figure': 3, 'obviously': 1, 'modeled': 1, 'richard': 1, 'nixon': 1, 'close': 4, 'personified': 1, 'satan': 1, 'looking': 1, 'subtexts': 1, 'speaks': 1, 'search': 1, 'compelling': 1, 'moving': 4, 'perfectly': 8, 'acted': 2, 'thisoverall': 1, 'served': 1, 'message': 9, 'memory': 1, 'proved': 2, 'besting': 1, 'ran': 2, 'solely': 1, 'mouth': 1, 'became': 4, 'hottest': 1, 'rented': 2, 'currently': 4, 'sits': 1, 'imdbs': 4, 'top': 11, 'occasionally': 1, 'swapping': 1, 'spots': 1, 'ranked': 1, 'havent': 7, 'hell': 2, 'waiting': 1, 'comes': 11, 'choice': 2, 'busy': 9, 'living': 3, 'dying': 4, 'trying': 2, 'save': 1, 'money': 2, 'last': 8, 'consider': 1, 'borrowing': 1, 'renting': 1, 'cost': 1, 'five': 2, 'bucks': 1, 'plunk': 1, 'youll': 7, 'wind': 2, 'gem': 1, 'truly': 4, 'timeless': 3, 'entertaining': 2, 'matter': 3, 'view': 3, 'itforget': 1, 'others': 10, 'including': 4, 'might': 7, 'suggest': 1, 'discover': 1, 'identify': 1, 'personal': 4, 'scene': 9, 'uncomplicated': 1, 'look': 7, 'believe': 9, 'overcoming': 1, 'even': 18, 'greatest': 11, 'obstacles': 1, 'uplift': 1, 'ways': 3, 'find': 12, 'liken': 1, 'kind': 5, 'spiritual': 3, 'awakening': 1, 'church': 1, 'mosque': 1, 'enlightenment': 1, 'humanity': 3, 'worship': 1, 'open': 2, 'certain': 2, 'days': 2, 'affirmation': 1, 'lasting': 1, 'bond': 4, 'friendships': 4, 'prevail': 1, 'dire': 1, 'circumstances': 4, 'grown': 2, 'cry': 2, 'wonder': 4, 'whether': 1, 'meant': 2, 'privacy': 1, 'experience': 8, 'inward': 1, 'single': 7, 'ironic': 1, 'innocent': 4, 'winds': 1, 'surrounded': 1, 'corruption': 1, 'legal': 1, 'system': 1, 'similar': 3, 'prejudging': 1, 'critics': 1, 'couldnt': 6, 'past': 4, 'public': 1, 'followed': 1, 'suit': 2, 'initially': 1, 'dismissing': 1, 'failed': 1, 'wonderful': 7, 'whithered': 1, 'store': 3, 'shelves': 1, 'cell': 2, 'prevailed': 1, 'stayed': 2, 'true': 12, 'popular': 1, 'jaded': 1, 'hour': 3, 'set': 5, 'manage': 1, 'tap': 1, 'wide': 1, 'range': 3, 'explosion': 1, 'effect': 1, 'digitally': 1, 'enhanced': 1, 'frame': 1, 'fit': 1, 'together': 7, 'acting': 23, 'bit': 7, 'part': 7, 'musical': 2, 'editing': 4, 'photography': 2, 'credits': 4, 'final': 6, 'involved': 3, 'town': 1, 'mansfield': 1, 'ohio': 1, 'actually': 4, 'filmed': 1, 'played': 9, 'roles': 4, 'must': 10, 'encompasses': 2, 'hardships': 4, 'hopes': 3, 'dreams': 4, 'moves': 3, 'gives': 13, 'viewers': 3, 'different': 9, 'far': 5, 'removed': 2, 'throughit': 2, 'everlasting': 2, 'outlandish': 2, 'narration': 4, 'win': 6, 'oscars': 6, 'beyond': 4, 'let': 8, 'sway': 6, 'ranking': 3, 'list': 5, 'recommendation': 3, 'youset': 2, 'aside': 2, 'little': 6, 'hours': 3, 'tonight': 2, 'rent': 4, 'understand': 11, 'everyone': 8, 'favorite': 6, 'ordinary': 2, 'flick': 2, 'deep': 4, 'foundation': 4, 'kept': 2, 'built': 1, 'hopeother': 1, 'phenomenal': 3, 'gave': 5, 'inspiring': 5, 'intelligent': 1, 'positive': 2, 'performance': 11, 'smile': 1, 'plays': 8, 'wrongfully': 2, 'convicted': 8, 'boyd': 2, 'finest': 2, 'career': 2, 'unlike': 1, 'lost': 5, 'regret': 1, 'crime': 4, 'committed': 2, 'way': 23, 'deflecting': 1, 'pain': 3, 'anything': 11, 'learns': 2, 'without': 7, 'reds': 6, 'group': 1, 'brooks': 8, 'halten': 1, 'parole': 4, 'words': 11, 'institutionalized': 2, 'directing': 3, 'magnificent': 3, 'steady': 1, 'pace': 2, 'along': 3, 'writing': 2, 'portrayed': 2, 'horrifying': 2, 'terms': 3, 'physical': 1, 'stress': 1, 'wares': 1, 'mentally': 1, 'inmates': 10, 'deserve': 2, 'second': 5, 'whatever': 1, 'listen': 1, 'overrated': 3, 'usually': 2, 'creating': 3, 'purposes': 1, 'create': 4, 'art': 8, 'nature': 4, 'director': 4, 'approach': 1, 'meticulous': 1, 'manner': 1, 'due': 3, 'delicacy': 1, 'process': 1, 'daunting': 2, 'task': 1, 'requires': 1, 'extremely': 3, 'capable': 1, 'artist': 1, 'undeniable': 2, 'managerial': 1, 'capacity': 1, 'acutely': 1, 'developed': 1, 'awareness': 1, 'element': 3, 'prominent': 2, 'visuals': 1, 'script': 4, 'elements': 4, 'equally': 3, 'important': 1, 'succeed': 2, 'independently': 1, 'form': 3, 'harmonious': 1, 'union': 1, 'mixture': 1, 'determines': 1, 'fate': 1, 'artists': 4, 'opus': 1, 'known': 2, 'amongst': 1, 'colleagues': 1, 'notable': 2, 'skills': 2, 'emerges': 2, 'feature': 1, 'directorial': 1, 'debut': 3, 'proving': 1, 'craft': 2, 'managed': 2, 'recognizable': 1, 'independent': 2, 'releases': 2, 'defines': 1, 'genre': 2, 'defies': 1, 'odds': 1, 'compels': 1, 'artistically': 1, 'hollywoodthe': 1, 'begins': 1, 'trial': 2, 'young': 6, 'dufrense': 3, 'victimized': 1, 'circumstantial': 1, 'evidence': 1, 'resulting': 2, 'conviction': 2, 'murder': 6, 'quick': 1, 'serving': 3, 'sentence': 3, 'exists': 1, 'appearance': 2, 'keeping': 1, 'free': 4, 'drab': 2, 'around': 9, 'ability': 5, 'results': 4, 'gaining': 1, 'respect': 3, 'commonly': 1, 'referred': 1, 'gainful': 1, 'use': 4, 'entrepreneurial': 1, 'spirit': 9, 'within': 7, 'contraband': 1, 'commodities': 1, 'rare': 1, 'confines': 1, 'demeanor': 1, 'sense': 5, 'causes': 1, 'deeper': 2, 'proves': 5, 'convention': 1, 'lifestyleby': 1, 'firm': 1, 'meticulously': 1, 'chiseled': 1, 'screenplay': 4, 'paved': 1, 'outdoes': 1, 'kings': 2, 'noteworthy': 1, 'demonstrates': 1, 'break': 1, 'dominates': 2, 'marvelous': 2, 'literature': 1, 'mirrors': 1, 'illustrates': 1, 'focused': 2, 'objective': 1, 'improving': 1, 'upon': 3, 'areas': 1, 'came': 5, 'short': 7, 'book': 2, 'transitions': 1, 'everwhile': 1, 'maintaining': 2, 'poetic': 2, 'dialogue': 4, 'generate': 1, 'deal': 2, 'response': 1, 'employs': 1, 'cunning': 1, 'newman': 5, 'legendary': 2, 'composer': 1, 'alfred': 1, 'shows': 5, 'recognition': 2, 'needs': 2, 'employing': 1, 'gentle': 1, 'chords': 1, 'whisper': 1, 'softly': 1, 'viewer': 2, 'scripted': 1, 'lends': 2, 'individualism': 1, 'tends': 1, 'drive': 1, 'towards': 3, 'unique': 3, 'realm': 1, 'composition': 1, 'effort': 1, 'unnoticed': 1, 'nomination': 1, 'intrudes': 1, 'concentration': 1, 'distracts': 1, 'filmwith': 1, 'vast': 1, 'talented': 1, 'designers': 2, 'costume': 1, 'composers': 1, 'cinematographers': 1, 'various': 2, 'cast': 6, 'dazzle': 1, 'convincing': 3, 'witness': 1, 'shine': 1, 'respectively': 1, 'spectacle': 3, 'lies': 4, 'plethora': 1, 'supporting': 4, 'easily': 3, 'disappear': 2, 'noticeable': 1, 'veteran': 2, 'star': 2, 'elderly': 3, 'hatlen': 1, 'incarcerated': 1, 'unmentioned': 1, 'long': 7, 'attached': 2, 'daily': 1, 'lead': 1, 'show': 5, 'dedication': 1, 'purpose': 3, 'motivations': 1, 'caters': 1, 'unbelievablewith': 1, 'aesthetic': 1, 'touches': 3, 'attention': 3, 'detail': 2, 'beautiful': 5, 'thematic': 1, 'material': 1, 'focus': 1, 'desires': 1, 'abstract': 1, 'concepts': 1, 'freedom': 9, 'concern': 1, 'undoubtedly': 2, 'yearns': 2, 'intricately': 1, 'woven': 1, 'draws': 1, 'full': 4, 'criminals': 1, 'display': 1, 'basic': 1, 'deliver': 1, 'quotable': 1, 'lines': 2, 'date': 2, 'novel': 1, 'manages': 2, 'greater': 3, 'tells': 4, 'masterfully': 1, 'illustrating': 1, 'principles': 1, 'leaves': 3, 'poignant': 4, 'powerful': 4, 'seekthis': 1, 'redeem': 1, 'eyes': 5, 'feared': 1, 'dark': 3, 'clichés': 2, 'predictability': 1, 'studios': 1, 'production': 1, 'facilities': 2, 'capability': 2, 'produce': 1, 'real': 10, 'inspires': 1, 'aspects': 1, 'delivers': 1, 'muchneeded': 1, 'breath': 2, 'fresh': 1, 'air': 1, 'realizes': 1, 'masters': 1, 'live': 3, 'earth': 1, 'bless': 1, 'masterpieces': 2, 'ive': 5, 'count': 1, 'number': 8, 'notice': 1, 'noticed': 1, 'beforei': 1, 'age': 2, 'fan': 3, 'prior': 1, 'seeing': 3, 'movienot': 1, 'turned': 2, 'perfection': 2, 'moviesomething': 1, 'outstanding': 4, 'fact': 7, 'gimmicks': 1, 'hooks': 1, 'beginning': 2, 'glued': 1, 'screen': 7, 'endfor': 1, 'eternal': 4, 'conveys': 3, 'throughout': 3, 'attitude': 1, 'main': 5, 'conveyed': 1, 'ending': 4, 'spine': 1, 'tingling': 1, 'itbrilliant': 1, 'brilliant': 10, 'misery': 2, 'stand': 3, 'adaptations': 3, 'add': 3, 'listthis': 1, 'certainly': 5, 'wont': 3, 'standing': 3, 'imdb': 5, 'barometer': 1, 'normal': 1, 'praise': 1, 'fascinating': 2, 'itking': 1, 'writers': 1, 'books': 4, 'castle': 2, 'rock': 2, 'series': 1, 'stories': 2, 'told': 4, 'done': 2, 'directors': 1, 'shining': 2, 'brilliantly': 1, 'interpreted': 2, 'kubrick': 1, 'aforementioned': 1, 'rob': 1, 'reiner': 1, 'arguably': 1, 'wants': 1, 'beautifully': 5, 'sent': 3, 'commit': 1, 'loses': 1, 'quest': 1, 'tenacity': 1, 'patience': 1, 'wits': 1, 'keep': 2, 'sane': 1, 'againim': 1, 'suffice': 1, 'glad': 2, 'appreciated': 1, 'recent': 1, 'lesson': 1, 'talk': 2, 'isolation': 1, 'rule': 2, 'bigotry': 1, 'hate': 5, 'majestic': 1, 'contact': 1, 'legend': 1, 'brookshe': 1, 'shines': 2, 'grew': 2, 'got': 7, 'blink': 1, 'brought': 1, 'elegance': 1, 'excitement': 1, 'extraordinary': 2, 'reason': 5, 'member': 2, 'database': 1, 'recognized': 1, 'greatness': 1, 'nary': 1, 'place': 4, 'entire': 3, 'exquisite': 1, 'cinema': 3, 'underappreciated': 1, 'multiple': 1, 'struggle': 3, 'maintain': 1, 'despite': 3, 'meaning': 1, 'segment': 1, 'testifies': 1, 'resolution': 2, 'faced': 1, 'fearful': 1, 'situation': 2, 'paththe': 1, 'path': 1, 'lit': 1, 'refer': 2, 'rather': 4, 'exactly': 1, 'worthy': 2, 'enough': 3, 'vain': 1, 'remember': 5, 'budget': 1, 'theaters': 3, 'summer': 1, 'heard': 2, 'pretty': 3, 'expectations': 2, 'rolled': 1, 'lights': 1, 'theater': 2, 'sat': 1, 'jaws': 1, 'hanging': 1, 'floor': 1, 'head': 4, 'friend': 5, 'captivated': 1, 'inspired': 2, 'sad': 3, 'uplifting': 4, 'harsh': 2, 'cold': 1, 'funny': 1, 'jawdropping': 1, 'heartwarming': 1, 'chills': 1, 'minutes': 3, 'soin': 1, 'incredible': 3, 'mention': 2, 'nearly': 2, 'flawless': 1, 'buy': 3, 'excellent': 8, 'walk': 1, 'turn': 2, 'family': 4, 'move': 2, 'call': 3, 'theyve': 1, 'fallen': 1, 'please': 1, 'run': 1, 'video': 3, 'youre': 2, 'guaranteed': 1, 'employee': 2, 'picks': 1, 'section': 2, 'isnt': 6, 'tell': 6, 'employees': 1, 'seriously': 4, 'wrong': 5, 'bought': 2, 'copy': 1, 'fireproof': 1, 'safe': 3, 'case': 3, 'emergency': 1, 'rating': 2, 'leading': 1, 'deeply': 2, 'dramas': 2, 'forever': 2, 'changed': 2, 'growing': 2, 'prisoners': 5, 'shown': 5, 'distinct': 1, 'passes': 1, 'wanes': 1, 'flame': 2, 'burns': 1, 'bright': 3, 'unrelentless': 1, 'carry': 1, 'redas': 1, 'stay': 2, 'light': 5, 'tunnel': 3, 'left': 4, 'follows': 1, 'itthis': 1, 'parallels': 1, 'wondering': 1, 'advice': 3, 'help': 6, 'somebody': 1, 'patient': 1, 'wait': 1, 'someone': 3, 'cares': 1, 'thank': 3, 'three': 2, 'oh': 2, 'godhow': 1, 'supposed': 1, 'describe': 2, 'fantastic': 2, 'unbelievable': 2, 'goesthis': 1, 'bloody': 1, 'shocking': 1, 'heck': 1, 'ofi': 1, 'mean': 4, 'gods': 1, 'sake': 1, 'damn': 1, 'speak': 1, 'instantly': 1, 'took': 3, 'saying': 1, 'filmstheres': 1, 'actor': 6, 'actress': 1, 'crap': 1, 'standouts': 1, 'dude': 1, 'brooksi': 1, 'xinfinity': 1, 'unfortunately': 1, 'space': 1, 'fingers': 1, 'sorean': 1, 'absolute': 2, 'doubt': 3, 'green': 1, 'mile': 1, 'respects': 1, 'horror': 2, 'prose': 1, 'shakes': 1, 'average': 1, 'furthered': 1, 'direction': 4, 'toprate': 1, 'scarytim': 1, 'dufrane': 1, 'wrongly': 3, 'imprisoned': 2, 'focuses': 1, 'probably': 2, 'role': 5, 'attempts': 1, 'escape': 3, 'positively': 2, 'evil': 3, 'frightening': 1, 'cameos': 1, 'gil': 2, 'bellows': 2, 'late': 1, 'billy': 1, 'ally': 1, 'mcbeal': 1, 'tommy': 1, 'suffers': 1, 'iron': 1, 'nortonif': 1, 'disappointed': 1, 'constructed': 1, 'superb': 4, 'likeable': 1, 'pigs': 1, 'detestable': 1, 'minimum': 1, 'enjoyed': 1, 'entertain': 1, 'fighting': 1, 'scenes': 6, 'pure': 2, 'enjoy': 2, 'silence': 1, 'rate': 2, 'play': 2, 'casting': 2, 'background': 2, 'scoring': 1, 'etc': 3, 'review': 4, 'pardon': 1, 'mistake': 1, 'heartbreak': 1, 'deception': 1, 'ultimate': 2, 'growth': 1, 'deplorable': 1, 'conditions': 1, 'superior': 1, 'freemans': 3, 'allow': 1, 'intimate': 1, 'sometimes': 3, 'contradictory': 1, 'convicts': 1, 'existence': 1, 'torn': 1, 'emotionally': 1, 'danger': 1, 'safety': 1, 'sanity': 1, 'sorrow': 1, 'truth': 1, 'injustice': 1, 'justice': 2, 'memorable': 3, 'portrayals': 1, 'thugs': 1, 'cruel': 1, 'guards': 7, 'swindlers': 1, 'thieves': 1, 'rapists': 2, 'murders': 1, 'respective': 1, 'spaces': 1, 'quietly': 1, 'listening': 2, 'operatic': 1, 'aria': 2, 'loudspeaker': 1, 'yardin': 1, 'exceptions': 1, 'charge': 2, 'wish': 3, 'caught': 1, 'snare': 1, 'worse': 1, 'behind': 4, 'heroes': 1, 'cheer': 1, 'miserably': 1, 'rotten': 1, 'bone': 1, 'represent': 1, 'shades': 1, 'grayone': 1, 'touching': 3, 'convict': 2, 'spent': 1, 'adult': 1, 'locked': 1, 'brokenheartedly': 1, 'paroled': 1, 'alien': 1, 'outdated': 1, 'boyhood': 1, 'fear': 2, 'unnatural': 1, 'terrain': 1, 'crawling': 1, 'shadier': 1, 'creatures': 1, 'bars': 1, 'exhaust': 1, 'fumes': 1, 'thousand': 2, 'horseless': 1, 'carriages': 1, 'rushing': 1, 'engulfed': 1, 'escapingfear': 1, 'hold': 1, 'prisoner': 2, 'redemptionas': 1, 'bonds': 2, 'ethnic': 1, 'groups': 1, 'economic': 1, 'backgrounds': 1, 'intellectual': 1, 'levels': 2, 'rejoice': 1, 'discovery': 1, 'dignity': 1, 'share': 2, 'unfolds': 1, 'hurts': 1, 'hard': 6, 'tears': 3, 'laugh': 2, 'used': 4, 'dinner': 1, 'girlgetting': 1, 'changing': 2, 'leaving': 2, 'contagious': 1, 'astonished': 1, 'euphoria': 2, 'fills': 1, 'invincible': 1, 'whytim': 1, 'city': 1, 'receives': 1, 'double': 1, 'unlikely': 1, 'faces': 1, 'trials': 1, 'alliance': 1, 'wardens': 3, 'able': 1, 'banking': 1, 'corrupt': 1, 'officials': 1, 'amass': 1, 'fortunes': 1, 'unfoldsi': 1, 'impressed': 2, 'subplot': 1, 'worldclass': 1, 'act': 1, 'maybe': 3, 'twists': 2, 'unexpected': 2, 'familiar': 2, 'slightly': 3, 'pretentious': 1, 'cliched': 3, 'original': 2, 'grand': 1, 'expressive': 1, 'impression': 1, 'sheer': 1, 'magnitude': 2, 'prisonbut': 1, 'depends': 2, 'unravels': 2, 'thoughtprovoking': 2, 'challenging': 1, 'advicethoroughly': 1, 'recommended': 1, 'dangerous': 2, 'root': 1, 'mental': 1, 'distress': 1, 'god': 1, 'body': 1, 'meexcept': 1, 'cigarettes': 1, 'naked': 1, 'woman': 1, 'printed': 1, 'cards': 1, 'changes': 1, 'grow': 1, 'digging': 1, 'chisel': 1, 'six': 1, 'hundredwhen': 1, 'climbed': 1, 'hundred': 2, 'yards': 1, 'stench': 1, 'sewage': 1, 'pipes': 1, 'pouring': 1, 'rain': 1, 'pierce': 1, 'heavy': 1, 'darkness': 1, 'luminous': 1, 'night': 1, 'blueunder': 1, 'weak': 1, 'arms': 1, 'sky': 1, 'succession': 1, 'shaking': 1, 'comedies': 1, 'liked': 1, 'hated': 1, 'felt': 5, 'reach': 2, 'middle': 1, 'totally': 2, 'mixed': 2, 'stream': 1, 'storming': 1, 'raise': 1, 'adrenaline': 1, 'extreme': 1, 'diabetics': 1, 'fully': 2, 'satisfiedthis': 1, 'antidepression': 1, 'therapists': 1, 'gifts': 1, 'smart': 2, 'knowing': 2, 'higher': 1, 'scale': 2, 'qualified': 1, 'join': 2, 'called': 4, 'anyway': 2, 'cues': 1, 'enormous': 1, 'posturing': 1, 'especially': 3, 'stands': 1, 'wandering': 1, 'lips': 1, 'lose': 1, 'finals': 1, 'highquality': 1, 'finding': 5, 'deserves': 1, 'taught': 1, 'magic': 6, 'nice': 2, 'remain': 1, 'wholeheartedly': 1, 'sites': 1, 'definitely': 4, 'spoilers': 1, 'herethis': 1, 'impact': 1, 'lot': 3, 'previous': 1, 'gush': 1, 'eulogise': 1, 'struggling': 1, 'explain': 2, 'loved': 4, 'extent': 1, 'secular': 1, 'devastatingly': 1, 'happen': 3, 'filmso': 1, 'viewings': 1, 'connect': 1, 'goesmany': 1, 'unhappy': 4, 'lots': 2, 'pray': 1, 'wand': 3, 'wave': 1, 'wash': 1, 'fears': 1, 'losses': 1, 'angers': 1, 'pains': 1, 'seemingly': 2, 'magical': 1, 'suffer': 2, 'borrow': 1, 'theyre': 6, 'bluebirds': 2, 'flying': 1, 'rainbowmany': 1, 'learned': 1, 'exist': 2, 'destined': 1, 'fairytales': 2, 'happily': 3, 'dyingin': 1, 'correctly': 1, 'fairytale': 2, 'wands': 1, 'imitating': 1, 'houdini': 1, 'neither': 2, 'governor': 3, 'guard': 3, 'scoreits': 1, 'institutionally': 1, 'hes': 2, 'trapped': 1, 'idea': 3, 'miracle': 2, 'cope': 2, 'unhappiness': 1, 'security': 1, 'keeps': 2, 'metaphor': 1, 'illness': 2, 'clear': 1, 'large': 7, 'proportion': 1, 'whats': 4, 'recognise': 2, 'sufferer': 1, 'mercifully': 1, 'untouched': 1, 'livingthe': 1, 'redeemed': 1, 'sunny': 1, 'fishing': 1, 'rocky': 2, 'uncertain': 2, 'theyd': 1, 'gates': 1, 'lived': 2, 'via': 1, 'ground': 1, 'bagging': 1, 'groceries': 1, 'local': 1, 'cheat': 1, 'everythings': 1, 'alrightthis': 1, 'crucial': 1, 'half': 4, 'content': 1, 'mooch': 1, 'prisons': 2, 'route': 2, 'mapped': 1, 'upsetting': 1, 'ultimately': 2, 'rewarding': 1, 'high': 2, 'comparable': 1, 'diamorphinethe': 1, 'trouble': 1, 'clearly': 4, 'fortunate': 1, 'individuals': 1, 'throughso': 1, 'realistic': 4, 'chart': 1, 'listing': 1, 'saved': 1, 'altered': 1, 'improved': 1, 'front': 1, 'everthe': 1, 'placebased': 1, 'novelthis': 1, 'incredibly': 1, 'filmtim': 1, 'stars': 2, 'samuel': 2, 'feelings': 1, 'despisethis': 1, 'considered': 1, 'agree': 1, 'factit': 1, 'adapted': 3, 'sound': 1, 'competition': 1, 'gumpi': 1, 'personally': 1, 'careerbravo': 1, 'originality': 1, 'tied': 2, 'criticise': 1, 'cliche': 1, 'brutality': 3, 'sorry': 1, 'charactersall': 1, 'believable': 2, 'depth': 2, 'dramatic': 2, 'tension': 1, 'stop': 2, 'fangirling': 1, 'favourite': 1, 'favorites': 2, 'accurate': 1, 'narrated': 2, 'narrator': 2, 'teach': 2, 'mans': 1, 'bread': 1, 'impossible': 1, 'hopei': 1, 'confidence': 1, 'formula': 1, 'kick': 1, 'darn': 2, 'happens': 2, 'declare': 1, 'peace': 2, 'goodbut': 1, 'producers': 1, 'expect': 1, 'thatlike': 1, 'vote': 4, 'follow': 1, 'typical': 4, 'worth': 3, 'penny': 1, 'letter': 1, 'gone': 1, 'storyline': 4, 'warming': 1, 'perfect': 9, 'celebration': 1, 'strength': 3, 'bring': 1, 'interwoven': 1, 'invokes': 2, 'emotion': 4, 'haunting': 3, 'chilling': 1, 'stirring': 1, 'poetry': 3, 'atmosphere': 2, 'victorious': 1, 'satisfaction': 1, 'triumph': 1, 'field': 1, 'invoked': 1, 'pretend': 1, 'clean': 1, 'brutal': 2, 'violent': 3, 'sickening': 1, 'necessarily': 1, 'actual': 1, 'crimes': 1, 'maginificent': 1, 'pastocolombiavia': 1, 'cali': 1, 'colombia': 1, 'orlando': 1, 'fl': 1, 'aimed': 1, 'primarily': 1, 'suppose': 2, 'difficult': 1, 'fathom': 1, 'avoid': 1, 'serendipitous': 1, 'confluence': 1, 'diverse': 1, 'exception': 3, 'murphys': 1, 'law': 1, 'breakdown': 1, 'analysis': 1, 'area': 1, 'activity': 1, 'precisely': 2, 'voters': 1, 'rated': 3, 'invite': 1, 'culture': 1, 'recurring': 1, 'undercurrent': 1, 'scenario': 2, 'longterm': 1, 'wrongful': 1, 'imprisonment': 1, 'universal': 1, 'cultures': 1, 'spoiler': 2, 'point': 3, 'established': 1, 'blackwhite': 1, 'bromance': 1, 'uniquely': 1, 'predestined': 1, 'untimely': 1, 'literally': 2, 'perspective': 1, 'mainman': 1, 'status': 1, 'dominant': 1, 'interaction': 1, 'equals': 1, 'gradually': 2, 'morphing': 1, 'lifelong': 1, 'buds': 1, 'crew': 3, 'midst': 1, 'imagined': 1, 'milestone': 1, 'jaw': 1, 'dropping': 1, 'negative': 1, 'weekenda': 1, 'starkly': 2, 'paltry': 1, 'position': 1, 'among': 1, 'overall': 1, 'occupied': 1, 'lackluster': 1, 'spot': 2, 'exact': 1, 'million': 4, 'taken': 1, 'initial': 1, 'piqued': 1, 'theatrical': 2, 'trailer': 1, 'avid': 1, 'goer': 1, 'hmmmm': 1, 'dramawhats': 1, 'hearing': 1, 'responded': 1, 'shaw': 1, 'thanks': 2, 'needless': 1, 'awe': 1, 'complete': 1, 'unmitigated': 1, 'insisted': 1, 'dragging': 1, 'later': 1, 'instant': 1, 'believer': 1, 'categorize': 1, 'inauspicious': 1, 'resulted': 1, 'volumes': 1, 'highlights': 1, 'interestingly': 1, 'zer': 1, 'wins': 2, 'amazingly': 1, 'luck': 1, 'compete': 1, 'mighty': 1, 'feelgood': 1, 'steamrolled': 1, 'x': 1, 'academys': 1, 'members': 2, 'categories': 1, 'exquisitely': 1, 'golden': 1, 'statuette': 1, 'wow': 1, 'suspension': 1, 'disbelief': 1, 'concerned': 1, 'selfcontained': 1, 'insulated': 1, 'environment': 1, 'stretch': 1, 'imagine': 1, 'oldtestament': 1, 'thumping': 1, 'anointing': 1, 'godlike': 1, 'powers': 1, 'stranger': 1, 'happened': 1, 'twist': 3, 'thinks': 1, 'illegal': 1, 'immigration': 1, 'mexico': 1, 'central': 1, 'america': 1, 'usa': 2, 'invariably': 1, 'opposite': 1, 'least': 3, 'ceases': 1, 'mesmerize': 1, 'critique': 1, 'magician': 1, 'seamlessly': 1, 'treading': 1, 'territory': 1, 'ages': 2, 'enjoydisfrutela': 1, 'questions': 1, 'observations': 1, 'english': 1, 'español': 1, 'welcome': 1, 'indelible': 1, 'guilty': 1, 'tom': 2, 'hanks': 2, 'underplay': 1, 'boredom': 1, 'cynicism': 1, 'lifer': 1, 'alive': 1, 'confinement': 1, 'someday': 1, 'belated': 1, 'subtle': 1, 'appreciate': 3, 'timebut': 1, 'alone': 1, 'falsely': 1, 'quality': 1, 'bemused': 1, 'irony': 2, 'amused': 1, 'compared': 1, 'player': 1, 'mystic': 1, 'river': 1, 'actorit': 1, 'villain': 1, 'biblequoting': 1, 'biblethumping': 1, 'massively': 1, 'hypocritical': 1, 'sadistic': 2, 'doozy': 1, 'fundamentalist': 1, 'christians': 1, 'revealed': 1, 'predatory': 1, 'homosexual': 2, 'behavior': 1, 'r': 1, 'wall': 4, 'hiding': 1, 'illgotten': 1, 'contents': 1, 'duplicitous': 1, 'accounts': 1, 'framed': 2, 'plaque': 1, 'judgment': 1, 'cometh': 1, 'soon': 2, 'apply': 1, 'delight': 1, 'promisehere': 1, 'information': 1, 'entitled': 1, 'figures': 1, 'procures': 1, 'poster': 3, 'pins': 1, 'gilda': 1, 'glenn': 1, 'ford': 1, 'clip': 1, 'black': 1, 'white': 1, 'cheering': 1, 'hollering': 1, 'appears': 2, 'old': 1, 'forerunner': 1, 'marilyn': 2, 'monroe': 2, 'next': 2, 'itch': 1, 'famous': 1, 'skirt': 1, 'blown': 1, 'reveal': 1, 'shapely': 1, 'legs': 1, 'following': 1, 'pinups': 2, 'prominently': 1, 'rachel': 1, 'welsh': 1, 'bc': 1, 'effective': 1, 'device': 1, 'graphically': 1, 'pining': 1, 'awayfrank': 1, 'darabonts': 2, 'devices': 1, 'naturally': 1, 'fifty': 1, 'hangs': 1, 'playing': 2, 'periodic': 1, 'board': 1, 'summarily': 1, 'rejected': 1, 'endthe': 1, 'dead': 1, 'whole': 2, 'difference': 1, 'guys': 3, 'sisters': 1, 'heroic': 1, 'determined': 1, 'miraculous': 1, 'works': 1, 'itall': 1, 'vividly': 2, 'chick': 1, 'understatement': 2, 'male': 1, 'bonding': 1, 'unfair': 2, 'coming': 2, 'grit': 1, 'luckbottom': 1, 'line': 2, 'miss': 1, 'itnote': 1, 'reviews': 1, 'available': 2, 'cut': 1, 'chaise': 1, 'lounge': 1, 'swallowed': 1, 'remote': 1, 'amazon': 1, 'hopewhen': 1, 'reaffirm': 1, 'belief': 2, 'offer': 1, 'doingit': 1, 'soars': 1, 'tried': 2, 'achieve': 1, 'virtues': 1, 'portrayal': 2, 'devastation': 1, 'loss': 1, 'leads': 2, 'narratives': 1, 'tip': 1, 'iceberg': 1, 'stunning': 3, 'accompanying': 1, 'venture': 1, 'mr': 3, 'robins': 1, 'charges': 1, 'released': 2, 'walking': 1, 'thinking': 1, 'masterpiece': 4, 'bothered': 1, 'low': 1, 'reputation': 2, 'wouldnt': 1, 'insult': 1, 'parts': 1, 'payoff': 1, 'durabont': 1, 'telling': 1, 'twenty': 2, 'manor': 1, 'jump': 1, 'cheap': 1, 'rushed': 1, 'lets': 1, 'downright': 1, 'id': 1, 'argue': 1, 'ensemble': 1, 'walks': 2, 'talks': 1, 'adds': 1, 'villains': 1, 'spoil': 1, 'twentyminutes': 1, 'breathtaking': 2, 'beauty': 1, 'rings': 1, 'louder': 1, 'perfectwhen': 1, 'expected': 1, 'everywhere': 1, 'started': 2, 'appreciating': 1, 'popularity': 1, 'eventually': 2, 'hit': 1, 'votesthe': 1, 'educated': 1, 'vice': 1, 'president': 1, 'bank': 2, 'accused': 1, 'england': 2, 'enemys': 1, 'historyi': 1, 'passionate': 2, 'increases': 2, 'mainly': 1, 'include': 1, 'winners': 1, 'isoverall': 1, 'defiantly': 1, 'plenty': 1, 'overcomes': 1, 'crafted': 1, 'recalled': 1, 'repeatedly': 1, 'yearning': 1, 'numb': 1, 'death': 2, 'redemptionthe': 1, 'recommend': 1, 'schools': 1, 'lays': 2, 'perform': 1, 'restores': 1, 'mankind': 1, 'sitting': 2, 'brothers': 1, 'desk': 1, 'intrigued': 1, 'values': 1, 'instead': 1, 'violence': 1, 'havoc': 1, 'pride': 1, 'produced': 1, 'grounds': 1, 'astound': 1, 'iam': 1, 'means': 1, 'reviewers': 1, 'stereotypes': 1, 'nasty': 2, 'ago': 1, 'disliked': 1, 'forced': 2, 'sympathy': 1, 'empathy': 1, 'murderers': 1, 'likeshawshank': 1, 'somehow': 1, 'transcended': 1, 'test': 1, 'endured': 2, 'multilevel': 1, 'turns': 2, 'individual': 1, 'hence': 1, 'lack': 1, 'combined': 1, 'sum': 1, 'partsand': 1, 'desperation': 1, 'multitude': 1, 'viewerthat': 1, 'divine': 1, 'worldshawshank': 1, 'yourre': 1, 'raising': 1, 'subjective': 1, 'poor': 1, 'souls': 1, 'belittle': 1, 'misfits': 1, 'redemptioni': 1, 'couple': 1, 'weeksi': 1, 'convinced': 1, 'akira': 1, 'kurosawas': 1, 'flew': 1, 'cuckoos': 1, 'nest': 1, 'tsr': 2, 'alongi': 1, 'excitedly': 1, 'contacted': 1, 'shared': 1, 'confirmed': 1, 'thoughtsthis': 1, 'bestin': 1, 'rush': 1, 'jackson': 1, 'browne': 1, 'pale': 1, 'comparison': 1, 'tsrhail': 1, 'flop': 1, 'peaking': 1, 'redmorgan': 1, 'murderer': 1, 'limits': 1, 'endurance': 1, 'prevails': 1, 'journey': 1, 'crafting': 1, 'sincere': 1, 'permenantly': 1, 'timethe': 1, 'testament': 1, 'blame': 1, 'redeeming': 1, 'experienced': 1, 'endignore': 1, 'hype': 1, 'surrounding': 1, 'privilege': 1, 'lion': 1, 'enthralling': 1, 'confess': 1, 'ignored': 1, 'wellwritten': 1, 'stick': 1, 'admit': 1, 'coarse': 2, 'language': 3, 'accepted': 1, 'represents': 1, 'rebellion': 1, 'battle': 1, 'acceptance': 1, 'superiorslike': 1, 'yelling': 1, 'lined': 1, 'row': 1, 'beginningthe': 1, 'exceptional': 1, 'hugely': 1, 'demanding': 1, 'robbed': 1, 'reminds': 1, 'style': 1, 'remind': 1, 'connery': 1, 'suave': 1, 'charismatic': 1, 'vocal': 1, 'mozart': 1, 'speakers': 1, 'profound': 1, 'cried': 1, 'rarely': 1, 'translateto': 1, 'authors': 1, 'dreamcatcher': 1, 'genuinely': 1, 'flaws': 1, 'prevent': 1, 'classed': 1, 'thinner': 1, 'tommyknockers': 1, 'border': 1, 'unwatchable': 1, 'conclusion': 1, 'credit': 1, 'denied': 1, 'solong': 1, 'bethany': 1, 'cox': 1, 'developped': 1, 'compeling': 1, 'structure': 1, 'builts': 1, 'emotionnaly': 1, 'silly': 1, 'sometime': 1, 'powerless': 1, 'hopeless': 1, 'dug': 1, 'hammer': 1, 'gain': 1, 'superbly': 1, 'slayings': 1, 'spouse': 1, 'strict': 2, 'introspective': 1, 'befriends': 1, 'decades': 1, 'trust': 1, 'peculiar': 1, 'fixer': 2, 'experiences': 1, 'mistreated': 1, 'raped': 1, 'adapts': 1, 'financial': 2, 'selfish': 1, 'common': 1, 'decency': 1, 'proof': 1, 'innocence': 3, 'ripped': 1, 'services': 1, 'learn': 1, 'penitentary': 1, 'provoking': 1, 'susprises': 1, 'reels': 1, 'serious': 1, 'thrills': 1, 'exciting': 1, 'colourblind': 1, 'relationships': 1, 'hardnut': 1, 'camaraderie': 1, 'gang': 2, 'opression': 1, 'disavowal': 1, 'implications': 1, 'buffs': 1, 'incidents': 1, 'relish': 1, 'swallowing': 1, 'surprises': 1, 'upright': 1, 'exceptionally': 1, 'accountancy': 1, 'handling': 1, 'finances': 1, 'humblest': 1, 'boss': 1, 'timepasser': 1, 'bombshell': 1, 'actresses': 1, 'raquel': 1, 'welch': 1, 'solid': 1, 'fares': 1, 'sixty': 1, 'apart': 1, 'slowness': 1, 'standards': 1, 'throwback': 1, 'rendition': 1, 'literate': 1, 'fugitive': 1, 'chain': 1, 'alcatraz': 2, 'magnificently': 1, 'eventual': 1, 'provides': 2, 'usual': 1, 'talent': 1, 'ambiguous': 1, 'oscarworthy': 1, 'grace': 1, 'thankless': 1, 'withmore': 1, 'crowkeeping': 1, 'librarian': 1, 'sympathetic': 1, 'newcomer': 1, 'ruthless': 1, 'guardian': 1, 'egoistic': 1, 'colorful': 1, 'evocative': 1, 'enjoyable': 1, 'engrossing': 1, 'avoids': 1, 'boring': 1, 'fleeing': 1, 'cliches': 1, 'pleasure': 1, 'discovering': 1, 'firsttime': 1, 'filmmaker': 1, 'evident': 1, 'intelligence': 1, 'giving': 1, 'sensitive': 1, 'brave': 1, 'details': 1, 'accumulate': 1, 'recourse': 1, 'excessively': 1, 'maudlin': 1, 'oversentimentality': 1, 'marvelously': 1, 'paced': 1, 'starting': 1, 'sounds': 2, 'riot': 1, 'breakout': 1, 'thoughts': 1, 'reminded': 1, 'housing': 1, 'sorts': 1, 'roughneck': 1, 'broken': 1, 'claim': 1, 'internal': 1, 'joke': 1, 'sort': 1, 'speakit': 1, 'comparing': 1, 'straightup': 1, 'numbers': 1, 'taxes': 1, 'uses': 1, 'benefit': 1, 'numerological': 1, 'genius': 2, 'spreads': 1, 'kinds': 1, 'builds': 1, 'maintains': 1, 'surface': 1, 'hobbies': 1, 'carves': 1, 'chess': 1, 'pieces': 1, 'using': 1, 'axe': 1, 'tool': 1, 'lucrative': 1, 'hobby': 1, 'underneath': 1, 'secretthe': 1, 'thrilled': 1, 'excited': 1, 'minute': 2, 'dialog': 1, 'angles': 1, 'onit': 1, 'smell': 1, 'prisona': 1, 'highest': 1, 'humor': 1, 'sore': 1, 'wet': 1, 'myselfandys': 1, 'greati': 1, 'philosophy': 1, 'inculcate': 1, 'ended': 1, 'wan': 1, 'prove': 1, 'lengths': 1, 'hearts': 1, 'itbut': 1, 'gon': 1, 'often': 1, 'length': 1, 'whove': 1, 'rolls': 1, 'tongue': 1, 'thisthe': 1, 'narrate': 1, 'soft': 1, 'ruff': 1, 'voice': 1, 'gained': 1, 'wisdom': 2, 'error': 1, 'natural': 2, 'teller': 1, 'smooth': 1, 'actorstim': 1, 'displays': 1, 'captures': 1, 'intense': 1, 'amount': 1, 'resonate': 1, 'unfold': 1, 'hayworthto': 1, 'pleasures': 1, 'faults': 1, 'admire': 1, 'seeto': 1, 'providing': 1, 'mirror': 1, 'reflect': 1, 'roll': 1, 'speechlessand': 1, 'wanting': 1, 'cherisheveryone': 1, 'capture': 1, 'guess': 1}\n"
     ]
    }
   ],
   "source": [
    "# Count the number of words in reviews\n",
    "imdb_kw = {}\n",
    "# imdb_allreviews = imdb_allreviews[:1]\n",
    "for r in imdb_allreviews:\n",
    "    for i in r:\n",
    "        rw = review_words(i)\n",
    "        for w in rw:\n",
    "            if w in imdb_kw:\n",
    "                imdb_kw[w] = imdb_kw[w] + 1\n",
    "            else:\n",
    "                imdb_kw[w] = 1\n",
    "print(imdb_kw)"
   ]
  },
  {
   "cell_type": "code",
   "execution_count": 72,
   "metadata": {},
   "outputs": [
    {
     "name": "stdout",
     "output_type": "stream",
     "text": [
      "[('movie', 143), ('film', 134), ('shawshank', 95), ('prison', 72), ('best', 62), ('redemption', 55), ('andy', 55), ('hope', 52), ('time', 46), ('life', 44), ('ever', 42), ('like', 41), ('story', 40), ('freeman', 37), ('many', 37), ('robbins', 35), ('great', 32), ('seen', 32), ('movies', 32), ('see', 32), ('red', 31), ('people', 31), ('years', 29), ('dont', 27), ('morgan', 26), ('never', 26), ('good', 25), ('films', 25), ('first', 24), ('every', 23), ('really', 23), ('get', 23), ('acting', 23), ('way', 23), ('tim', 22), ('say', 22), ('well', 22), ('going', 21), ('makes', 21), ('could', 21), ('would', 21), ('darabont', 20), ('us', 20), ('feel', 20), ('made', 20), ('things', 19), ('watch', 19), ('times', 19), ('think', 19), ('two', 18)]\n"
     ]
    }
   ],
   "source": [
    "imdb_sorted_kw = sorted(imdb_kw.items(), key=lambda x: x[1], reverse=True)\n",
    "imdb_sorted_kw = imdb_sorted_kw[:50]\n",
    "print(imdb_sorted_kw)"
   ]
  },
  {
   "cell_type": "code",
   "execution_count": 117,
   "metadata": {},
   "outputs": [],
   "source": [
    "def imdb_get_genre():\n",
    "    imdb_movie_genre = {}\n",
    "    for item in imdb_m_dict:\n",
    "        g = []\n",
    "        # Open url for all movies and parse the content\n",
    "        soup_genre = open_url(imdb_m_dict[item])\n",
    "        g_container = soup_genre.find_all('div', class_ = 'subtext')\n",
    "        for i in g_container:\n",
    "            t = i.find_all('a')\n",
    "            for n in t:\n",
    "                review_url = n.get('href', None)\n",
    "                if re.search('genres',review_url):\n",
    "                    g.append(n.text.lower())\n",
    "        imdb_movie_genre[item] = g\n",
    "    return imdb_movie_genre\n",
    "genre_imdb = imdb_get_genre()"
   ]
  },
  {
   "cell_type": "code",
   "execution_count": 124,
   "metadata": {},
   "outputs": [
    {
     "name": "stdout",
     "output_type": "stream",
     "text": [
      "{'drama': 39, 'crime': 13, 'action': 13, 'adventure': 12, 'sci-fi': 6, 'comedy': 6, 'biography': 5, 'mystery': 5, 'thriller': 5, 'romance': 4, 'fantasy': 4, 'family': 3, 'war': 3, 'animation': 3, 'history': 2, 'western': 2, 'music': 2, 'horror': 1}\n"
     ]
    }
   ],
   "source": [
    "# Processing the list of Genre to compute cosine similarity\n",
    "\n",
    "im_vector = {}\n",
    "for gen in genre_imdb:\n",
    "    for gi in genre_imdb[gen]:\n",
    "        if gi not in im_vector:\n",
    "            im_vector[gi] = 1\n",
    "        else:\n",
    "            im_vector[gi] = im_vector[gi] + 1\n",
    "\n",
    "od = sorted(im_vector.items(), key=lambda x: x[1], reverse=True)\n",
    "od = dict(od)\n",
    "print(od)"
   ]
  },
  {
   "cell_type": "code",
   "execution_count": 36,
   "metadata": {},
   "outputs": [],
   "source": [
    "# Write from csv to SQL lite\n",
    "\n",
    "conn = sqlite3.connect('MovieReviewDatabase.sqlite')\n",
    "cur = conn.cursor()\n",
    "cur.execute('DROP TABLE IF EXISTS MovieReviewTableIMDB')\n",
    "\n",
    "df = pd.read_csv('Tejashri_reviews_imdb.csv')\n",
    "df.to_sql('MovieReviewTableIMDB', conn, if_exists='append', index=False)\n",
    "conn.commit()\n",
    "conn.close()"
   ]
  },
  {
   "cell_type": "markdown",
   "metadata": {},
   "source": [
    "## Metacritics"
   ]
  },
  {
   "cell_type": "code",
   "execution_count": 47,
   "metadata": {},
   "outputs": [],
   "source": [
    "# Metacritics\n",
    "meta_url = 'https://www.metacritic.com/browse/movies/score/metascore/all/filtered?sort=desc'\n",
    "soup = open_url(meta_url)\n",
    "# Find all the movies\n",
    "container = soup.find_all('td', class_ = 'clamp-summary-wrap')\n",
    "\n",
    "# Extract top 50 movies\n",
    "movies = container[:50]\n",
    "root = r'https://www.metacritic.com'\n",
    "# meta_m_dict is the dictionary with movie names and corresponding link\n",
    "meta_m_dict = {}\n",
    "for movie in movies: \n",
    "    m_name = movie.find('a',class_ = 'title').text\n",
    "    tag = movie.find('a', class_ = 'title')\n",
    "    link = tag.get('href', None)\n",
    "    meta_m_dict[m_name] = root+link\n",
    "\n",
    "# Function to get movie reviews\n",
    "def meta_review():\n",
    "    meta_allreviews = []\n",
    "    mv = {}\n",
    "    for item in meta_m_dict:\n",
    "        movie_soup = open_url(meta_m_dict[item])\n",
    "        movie_tag = movie_soup.find_all('a', class_ = 'see_all boxed oswald') \n",
    "        user_review_tag = movie_tag[1] \n",
    "        review_url = user_review_tag.get('href', None)\n",
    "        if not review_url.endswith('user-reviews'):\n",
    "            full_link = 'No user review yet.'\n",
    "        else:\n",
    "            full_link = 'https://www.metacritic.com'+ review_url\n",
    "        if not full_link ==  'No user review yet.':\n",
    "            # Open url for all reviews and parse the content\n",
    "            soup_review = open_url(full_link)\n",
    "            review_tag = soup_review.find_all('div', class_ = 'summary')\n",
    "            top_50 = review_tag[:50]\n",
    "            review_list = []\n",
    "            for j in top_50:\n",
    "                try:\n",
    "                    review = j.select('span.blurb blurb_expanded')[0].text.strip()\n",
    "                except:\n",
    "                    review = j.select('div.review_body')[0].text.strip()\n",
    "                review_list.append(review)\n",
    "        else:\n",
    "            review_list = 'nothing here'\n",
    "        mv[item] = review_list\n",
    "        meta_allreviews.append(review_list)\n",
    "    # Return dictionary containing movie name and reviews\n",
    "    return mv, meta_allreviews   \n",
    "\n",
    "# Write movie reviews to a csv file\n",
    "meta_d, meta_allreviews = meta_review()"
   ]
  },
  {
   "cell_type": "code",
   "execution_count": 49,
   "metadata": {},
   "outputs": [],
   "source": [
    "# Write movie reviews to a csv file\n",
    "data_meta = pd.DataFrame.from_dict(meta_d, orient='index')\n",
    "data_meta = data_meta.transpose()\n",
    "data_meta.to_csv('Tejashri_reviews_meta.csv')"
   ]
  },
  {
   "cell_type": "code",
   "execution_count": 74,
   "metadata": {},
   "outputs": [],
   "source": [
    "# Count the number of words in reviews\n",
    "meta_kw = {}\n",
    "# meta_allreviews = meta_allreviews[:1]\n",
    "for r in meta_allreviews:\n",
    "    for i in r:\n",
    "        rw = review_words(i)\n",
    "        for w in rw:\n",
    "            if w in meta_kw:\n",
    "                meta_kw[w] = meta_kw[w] + 1\n",
    "            else:\n",
    "                meta_kw[w] = 1\n",
    "    \n",
    "# print(meta_kw)"
   ]
  },
  {
   "cell_type": "code",
   "execution_count": 75,
   "metadata": {},
   "outputs": [
    {
     "name": "stdout",
     "output_type": "stream",
     "text": [
      "[('film', 75), ('kane', 53), ('movie', 49), ('time', 29), ('citizen', 29), ('expand', 23), ('orson', 20), ('ever', 20), ('welles', 20), ('see', 18), ('made', 17), ('story', 17), ('watch', 16), ('best', 16), ('great', 15), ('cinema', 13), ('still', 13), ('love', 13), ('say', 13), ('greatest', 12), ('good', 11), ('movies', 11), ('character', 11), ('use', 11), ('like', 10), ('way', 9), ('films', 9), ('work', 9), ('life', 9), ('amazing', 9), ('kanes', 9), ('really', 9), ('many', 9), ('even', 8), ('camera', 8), ('tell', 8), ('cinematography', 8), ('performances', 8), ('must', 8), ('every', 8), ('first', 8), ('masterpiece', 7), ('shot', 7), ('history', 7), ('seen', 7), ('plot', 7), ('charles', 7), ('newspaper', 7), ('review', 7), ('present', 7)]\n"
     ]
    }
   ],
   "source": [
    "meta_sorted_kw = sorted(meta_kw.items(), key=lambda x: x[1], reverse=True)\n",
    "meta_sorted_kw = meta_sorted_kw[:50]\n",
    "print(meta_sorted_kw)"
   ]
  },
  {
   "cell_type": "code",
   "execution_count": 119,
   "metadata": {},
   "outputs": [],
   "source": [
    "def meta_get_genre():\n",
    "    meta_movie_genre = {}\n",
    "    for item in meta_m_dict:\n",
    "        # Open url for all movies and parse the content\n",
    "        soup_genre = open_url(meta_m_dict[item])\n",
    "        g_container = soup_genre.find('div', class_ = 'genres')\n",
    "        t = g_container.text.strip().lower()\n",
    "        y = re.sub(r'g.+:','',t)\n",
    "        c = re.sub(',','',y)\n",
    "        c = c.split()\n",
    "        meta_movie_genre[item] = c\n",
    "    return meta_movie_genre\n",
    "genre_meta = meta_get_genre()\n",
    "# print(genre_meta)"
   ]
  },
  {
   "cell_type": "code",
   "execution_count": 125,
   "metadata": {},
   "outputs": [
    {
     "name": "stdout",
     "output_type": "stream",
     "text": [
      "{'drama': 39, 'thriller': 13, 'romance': 11, 'mystery': 10, 'comedy': 9, 'war': 5, 'history': 5, 'crime': 4, 'film-noir': 4, 'musical': 3, 'fantasy': 3, 'animation': 3, 'family': 3, 'adventure': 3, 'action': 3, 'horror': 3, 'western': 2, 'biography': 2, 'sport': 1, 'documentary': 1, 'music': 1}\n"
     ]
    }
   ],
   "source": [
    "# Processing the list of Genre to compute cosine similarity\n",
    "meta_vector = {}\n",
    "for gen in genre_meta:\n",
    "    for gi in genre_meta[gen]:\n",
    "        if gi not in meta_vector:\n",
    "            meta_vector[gi] = 1\n",
    "        else:\n",
    "            meta_vector[gi] = meta_vector[gi] + 1\n",
    "\n",
    "m_vector = sorted(meta_vector.items(), key=lambda x: x[1], reverse=True)\n",
    "m_vector = dict(m_vector)\n",
    "print(m_vector)"
   ]
  },
  {
   "cell_type": "code",
   "execution_count": 51,
   "metadata": {},
   "outputs": [],
   "source": [
    "# Write from csv to SQL lite\n",
    "\n",
    "conn = sqlite3.connect('MovieReviewDatabase.sqlite')\n",
    "cur = conn.cursor()\n",
    "cur.execute('DROP TABLE IF EXISTS MovieReviewTableMetacritics')\n",
    "\n",
    "df = pd.read_csv('Tejashri_reviews_meta.csv')\n",
    "df.to_sql('MovieReviewTableMetacritics', conn, if_exists='append', index=False)\n",
    "conn.commit()\n",
    "conn.close()"
   ]
  },
  {
   "cell_type": "markdown",
   "metadata": {},
   "source": [
    "## RottenTomatoes"
   ]
  },
  {
   "cell_type": "code",
   "execution_count": 107,
   "metadata": {},
   "outputs": [],
   "source": [
    "# Rotten Tomatoes with critic reviews\n",
    "rot_url = 'https://www.rottentomatoes.com/top/bestofrt/'\n",
    "soup = open_url(rot_url)\n",
    "\n",
    "# Find all the movies\n",
    "container = soup.find_all('a',class_='unstyled articleLink')\n",
    "m_container = []\n",
    "m_names = []\n",
    "for i in container:\n",
    "    t = i.text\n",
    "    tag = i.get('href', None)\n",
    "    if re.search('/m/',tag):\n",
    "        m_container.append(tag)\n",
    "        m_names.append(i.text.strip())\n",
    "\n",
    "# Extract top 50 movies\n",
    "movies = m_container[:50]\n",
    "root = r'https://www.rottentomatoes.com/'\n",
    "# rot_m_dict is the dictionary with movie names and corresponding link\n",
    "rot_m_dict = {}\n",
    "count = 0\n",
    "for movie in movies: \n",
    "    rot_m_dict[m_names[count]] = root+movie\n",
    "    count += 1\n",
    "\n",
    "# final_list = []\n",
    "revire_link = '/reviews'\n",
    "# Function to get movie reviews\n",
    "def rot_review():\n",
    "    rot_allreviews = []\n",
    "    mv = {}\n",
    "    for item in rot_m_dict:\n",
    "        # Generate review links for all the pages containing the reviews \n",
    "        x1 = rot_m_dict[item]+revire_link\n",
    "        x2 = rot_m_dict[item] + '/reviews?type=&sort=&page=2'\n",
    "        x3 = rot_m_dict[item] + '/reviews?type=&sort=&page=3'\n",
    "\n",
    "        # Open url1 for all reviews and parse the content\n",
    "        soup_review = open_url(x1)\n",
    "        r_container1 = soup_review.find_all('div',class_='review_desc')\n",
    "        \n",
    "        # Get review for a movie and store in list m_reviews\n",
    "        m_reviews = []\n",
    "        for c in r_container1:\n",
    "            reviews1 = c.find('div',class_ = 'the_review').text.strip()\n",
    "            reviews1 = re.sub('[^\\w\\s]','',reviews1)\n",
    "            m_reviews.append(reviews1)\n",
    "    \n",
    "        # Open url2 for all reviews and parse the content\n",
    "        soup_review2 = open_url(x2)\n",
    "        r_container2 = soup_review2.find_all('div',class_='review_desc')\n",
    "\n",
    "        for c in r_container2:\n",
    "            reviews2 = c.find('div',class_ = 'the_review').text.strip()\n",
    "            reviews2 = re.sub('[^\\w\\s]','',reviews2)\n",
    "            m_reviews.append(reviews2)\n",
    "            \n",
    "        # Open url3 for all reviews and parse the content\n",
    "        soup_review3 = open_url(x3)\n",
    "        r_container3 = soup_review3.find_all('div',class_='review_desc')\n",
    "\n",
    "        for c in r_container3:\n",
    "            reviews3 = c.find('div',class_ = 'the_review').text.strip()\n",
    "            reviews3 = re.sub('[^\\w\\s]','',reviews3)\n",
    "            m_reviews.append(reviews3)\n",
    "            \n",
    "        m_reviews = m_reviews[:50]\n",
    "        mv[item] = m_reviews\n",
    "        rot_allreviews.append(m_reviews)\n",
    "\n",
    "    # Return dictionary containing movie name and reviews\n",
    "    return mv, rot_allreviews\n",
    "\n",
    "\n",
    "r_mv, rot_allreviews = rot_review()"
   ]
  },
  {
   "cell_type": "code",
   "execution_count": 23,
   "metadata": {},
   "outputs": [],
   "source": [
    "# Write reviews to csv\n",
    "dat = pd.DataFrame.from_dict(r_mv, orient='index')\n",
    "dat = dat.transpose()\n",
    "dat.to_csv('Tejashri_reviews_rottenT.csv')"
   ]
  },
  {
   "cell_type": "code",
   "execution_count": 77,
   "metadata": {},
   "outputs": [],
   "source": [
    "# Count the number of words in reviews\n",
    "rot_kw = {}\n",
    "# rot_allreviews = rot_allreviews[:1]\n",
    "for r in rot_allreviews:\n",
    "    for i in r:\n",
    "        rw = review_words(i)\n",
    "        for w in rw:\n",
    "            if w in rot_kw:\n",
    "                rot_kw[w] = rot_kw[w] + 1\n",
    "            else:\n",
    "                rot_kw[w] = 1\n",
    "# print(rot_kw)"
   ]
  },
  {
   "cell_type": "code",
   "execution_count": 78,
   "metadata": {},
   "outputs": [
    {
     "name": "stdout",
     "output_type": "stream",
     "text": [
      "[('black', 21), ('panther', 17), ('movie', 12), ('superhero', 11), ('film', 9), ('marvel', 8), ('full', 6), ('best', 6), ('coogler', 5), ('review', 5), ('spanish', 5), ('important', 5), ('action', 4), ('ryan', 4), ('like', 4), ('story', 4), ('good', 4), ('movies', 4), ('design', 3), ('see', 3), ('marvels', 3), ('cultural', 3), ('cast', 3), ('diversity', 3), ('feels', 3), ('less', 3), ('time', 3), ('many', 3), ('films', 3), ('entire', 3), ('cooglers', 3), ('seen', 2), ('new', 2), ('king', 2), ('seem', 2), ('production', 2), ('ruth', 2), ('something', 2), ('special', 2), ('get', 2), ('likely', 2), ('date', 2), ('believe', 2), ('flick', 2), ('hollywood', 2), ('blockbuster', 2), ('set', 2), ('characters', 2), ('charisma', 2), ('work', 2)]\n"
     ]
    }
   ],
   "source": [
    "rot_sorted_kw = sorted(rot_kw.items(), key=lambda x: x[1], reverse=True)\n",
    "rot_sorted_kw = rot_sorted_kw[:50]\n",
    "print(rot_sorted_kw)"
   ]
  },
  {
   "cell_type": "code",
   "execution_count": 121,
   "metadata": {},
   "outputs": [],
   "source": [
    "def rot_get_genre():\n",
    "    rot_movie_genre = {}\n",
    "    for item in rot_m_dict:\n",
    "    \n",
    "        # Open url for all movies and parse the content\n",
    "        soup_genre = open_url(rot_m_dict[item])\n",
    "\n",
    "        g_container = soup_genre.find_all('div', class_ = 'meta-value genre')\n",
    "\n",
    "        for i in g_container:\n",
    "            t = i.text\n",
    "            t = re.sub('sci fi','sci-fi',t)\n",
    "            t = re.sub('and','',t)\n",
    "            t = re.sub(',','',t)\n",
    "            n = t.split()\n",
    "        rot_movie_genre[item] = n\n",
    "    return rot_movie_genre\n",
    "genre_rottenT = rot_get_genre()\n",
    "# print(genre_rottenT)"
   ]
  },
  {
   "cell_type": "code",
   "execution_count": 126,
   "metadata": {},
   "outputs": [
    {
     "name": "stdout",
     "output_type": "stream",
     "text": [
      "{'drama': 21, 'comedy': 18, 'adventure': 14, 'fantasy': 13, 'action': 10, 'kids': 8, 'family': 8, 'mystery': 7, 'thriller': 7, 'sci-fi': 5, 'animation': 5, 'crime': 5, 'horror': 4, 'romance': 4, 'musical': 2, 'music': 2, 'war': 2, 'history': 2}\n"
     ]
    }
   ],
   "source": [
    "# Processing the list of Genre to compute cosine similarity\n",
    "rot_vector = {}\n",
    "for gen in genre_rottenT:\n",
    "    for gi in genre_rottenT[gen]:\n",
    "        if gi not in rot_vector:\n",
    "            rot_vector[gi] = 1\n",
    "        else:\n",
    "            rot_vector[gi] = rot_vector[gi] + 1\n",
    "\n",
    "r_vector = sorted(rot_vector.items(), key=lambda x: x[1], reverse=True)\n",
    "r_vector = dict(r_vector)\n",
    "print(r_vector)"
   ]
  },
  {
   "cell_type": "code",
   "execution_count": 31,
   "metadata": {},
   "outputs": [],
   "source": [
    "# Write from csv to SQL lite\n",
    "\n",
    "conn = sqlite3.connect('MovieReviewDatabase.sqlite')\n",
    "cur = conn.cursor()\n",
    "cur.execute('DROP TABLE IF EXISTS MovieReviewTableRot')\n",
    "\n",
    "df = pd.read_csv('Tejashri_reviews_rottenT.csv')\n",
    "df.to_sql('MovieReviewTableRot', conn, if_exists='append', index=False)\n",
    "conn.commit()\n",
    "conn.close()"
   ]
  },
  {
   "cell_type": "code",
   "execution_count": 128,
   "metadata": {},
   "outputs": [],
   "source": [
    "set_genre = od.keys() | m_vector.keys() | r_vector.keys()"
   ]
  },
  {
   "cell_type": "code",
   "execution_count": 130,
   "metadata": {},
   "outputs": [
    {
     "name": "stdout",
     "output_type": "stream",
     "text": [
      "{'sport': 0, 'family': 0, 'sci-fi': 0, 'drama': 0, 'fantasy': 0, 'music': 0, 'animation': 0, 'romance': 0, 'musical': 0, 'thriller': 0, 'biography': 0, 'documentary': 0, 'adventure': 0, 'film-noir': 0, 'mystery': 0, 'western': 0, 'action': 0, 'comedy': 0, 'history': 0, 'crime': 0, 'war': 0, 'kids': 0, 'horror': 0}\n"
     ]
    }
   ],
   "source": [
    "genre_total = {}\n",
    "for i in set_genre:\n",
    "    genre_total.update({i:0})\n",
    "# print(genre_total)"
   ]
  },
  {
   "cell_type": "code",
   "execution_count": 131,
   "metadata": {},
   "outputs": [
    {
     "name": "stdout",
     "output_type": "stream",
     "text": [
      "{'sport': 0, 'family': 3, 'sci-fi': 6, 'drama': 39, 'fantasy': 4, 'music': 2, 'animation': 3, 'romance': 4, 'musical': 0, 'thriller': 5, 'biography': 5, 'documentary': 0, 'adventure': 12, 'film-noir': 0, 'mystery': 5, 'western': 2, 'action': 13, 'comedy': 6, 'history': 2, 'crime': 13, 'war': 3, 'kids': 0, 'horror': 1}\n"
     ]
    }
   ],
   "source": [
    "# imdb\n",
    "genre_imdb = genre_total.copy()\n",
    "for i in list(od.keys()):\n",
    "    if i in list(od.keys()):\n",
    "        genre_imdb[i] = od[i]\n",
    "print(genre_imdb)"
   ]
  },
  {
   "cell_type": "code",
   "execution_count": 132,
   "metadata": {},
   "outputs": [
    {
     "name": "stdout",
     "output_type": "stream",
     "text": [
      "{'sport': 1, 'family': 3, 'sci-fi': 0, 'drama': 39, 'fantasy': 3, 'music': 1, 'animation': 3, 'romance': 11, 'musical': 3, 'thriller': 13, 'biography': 2, 'documentary': 1, 'adventure': 3, 'film-noir': 4, 'mystery': 10, 'western': 2, 'action': 3, 'comedy': 9, 'history': 5, 'crime': 4, 'war': 5, 'kids': 0, 'horror': 3}\n"
     ]
    }
   ],
   "source": [
    "# meta\n",
    "genre_meta = genre_total.copy()\n",
    "for i in list(m_vector.keys()):\n",
    "    if i in list(m_vector.keys()):\n",
    "        genre_meta[i] = m_vector[i]\n",
    "print(genre_meta)"
   ]
  },
  {
   "cell_type": "code",
   "execution_count": 133,
   "metadata": {},
   "outputs": [
    {
     "name": "stdout",
     "output_type": "stream",
     "text": [
      "{'sport': 0, 'family': 8, 'sci-fi': 5, 'drama': 21, 'fantasy': 13, 'music': 2, 'animation': 5, 'romance': 4, 'musical': 2, 'thriller': 7, 'biography': 0, 'documentary': 0, 'adventure': 14, 'film-noir': 0, 'mystery': 7, 'western': 0, 'action': 10, 'comedy': 18, 'history': 2, 'crime': 5, 'war': 2, 'kids': 8, 'horror': 4}\n"
     ]
    }
   ],
   "source": [
    "# rot\n",
    "genre_rot = genre_total.copy()\n",
    "for i in list(r_vector.keys()):\n",
    "    if i in list(r_vector.keys()):\n",
    "        genre_rot[i] = r_vector[i]\n",
    "print(genre_rot)"
   ]
  },
  {
   "cell_type": "code",
   "execution_count": 134,
   "metadata": {},
   "outputs": [
    {
     "name": "stdout",
     "output_type": "stream",
     "text": [
      "imdb\n",
      "[0, 3, 6, 39, 4, 2, 3, 4, 0, 5, 5, 0, 12, 0, 5, 2, 13, 6, 2, 13, 3, 0, 1]\n",
      "meta\n",
      "[1, 3, 0, 39, 3, 1, 3, 11, 3, 13, 2, 1, 3, 4, 10, 2, 3, 9, 5, 4, 5, 0, 3]\n",
      "rotten\n",
      "[0, 8, 5, 21, 13, 2, 5, 4, 2, 7, 0, 0, 14, 0, 7, 0, 10, 18, 2, 5, 2, 8, 4]\n"
     ]
    }
   ],
   "source": [
    "# Find the vectors to compute cosine similarity\n",
    "print('imdb')\n",
    "iv = list(genre_imdb.values())\n",
    "print(iv)\n",
    "print('meta')\n",
    "mv = list(genre_meta.values())\n",
    "print(mv)\n",
    "print('rotten')\n",
    "rv = list(genre_rot.values())\n",
    "print(rv)"
   ]
  },
  {
   "cell_type": "code",
   "execution_count": 135,
   "metadata": {},
   "outputs": [],
   "source": [
    "# Find cosine Similarity\n",
    "cs_imdb_meta = 1 - spatial.distance.cosine(iv, mv)\n",
    "cs_imdb_rot = 1 - spatial.distance.cosine(iv, rv)\n",
    "cs_meta_rot = 1 - spatial.distance.cosine(mv, rv)"
   ]
  },
  {
   "cell_type": "code",
   "execution_count": 136,
   "metadata": {},
   "outputs": [
    {
     "name": "stdout",
     "output_type": "stream",
     "text": [
      "Cosine similarity between genres IMDB and Metacritics:  0.8857105210415298\n",
      "Cosine similarity between genres IMDB and RottenTomatoes:  0.80881563991013\n",
      "Cosine similarity between genres Metacritics and RottenTomatoes:  0.7580139789525701\n"
     ]
    }
   ],
   "source": [
    "print('Cosine similarity between genres IMDB and Metacritics: ',cs_imdb_meta)\n",
    "print('Cosine similarity between genres IMDB and RottenTomatoes: ',cs_imdb_rot)\n",
    "print('Cosine similarity between genres Metacritics and RottenTomatoes: ',cs_meta_rot)"
   ]
  },
  {
   "cell_type": "code",
   "execution_count": 81,
   "metadata": {},
   "outputs": [],
   "source": [
    "# Cosine similarity for the movie reviews\n",
    "# Convert the sorted lists to dictionaries\n",
    "imdb_sorted_kw = dict(imdb_sorted_kw)\n",
    "meta_sorted_kw = dict(meta_sorted_kw)\n",
    "rot_sorted_kw = dict(rot_sorted_kw)"
   ]
  },
  {
   "cell_type": "code",
   "execution_count": 83,
   "metadata": {},
   "outputs": [],
   "source": [
    "# set_total = \n",
    "set_total = imdb_sorted_kw.keys() | meta_sorted_kw.keys() | rot_sorted_kw.keys()"
   ]
  },
  {
   "cell_type": "code",
   "execution_count": 110,
   "metadata": {},
   "outputs": [],
   "source": [
    "dict_total = {}\n",
    "for i in set_total:\n",
    "    dict_total.update({i:0})\n",
    "# print(dict_total)"
   ]
  },
  {
   "cell_type": "code",
   "execution_count": 137,
   "metadata": {},
   "outputs": [
    {
     "name": "stdout",
     "output_type": "stream",
     "text": [
      "{'new': 0, 'cultural': 0, 'every': 23, 'less': 0, 'good': 25, 'robbins': 35, 'really': 23, 'production': 0, 'panther': 0, 'story': 40, 'first': 24, 'redemption': 55, 'shot': 0, 'marvels': 0, 'masterpiece': 0, 'freeman': 37, 'cast': 0, 'prison': 72, 'kanes': 0, 'even': 0, 'black': 0, 'cooglers': 0, 'great': 32, 'welles': 0, 'date': 0, 'citizen': 0, 'love': 0, 'characters': 0, 'tim': 22, 'ever': 42, 'expand': 0, 'design': 0, 'flick': 0, 'cinematography': 0, 'life': 44, 'movie': 143, 'amazing': 0, 'something': 0, 'never': 26, 'blockbuster': 0, 'ruth': 0, 'get': 23, 'seem': 0, 'shawshank': 95, 'present': 0, 'say': 22, 'darabont': 20, 'superhero': 0, 'time': 46, 'set': 0, 'made': 20, 'morgan': 26, 'diversity': 0, 'feel': 20, 'special': 0, 'hope': 52, 'work': 0, 'still': 0, 'tell': 0, 'times': 19, 'camera': 0, 'king': 0, 'like': 41, 'kane': 0, 'charles': 0, 'charisma': 0, 'see': 32, 'years': 29, 'film': 134, 'way': 23, 'us': 20, 'many': 37, 'use': 0, 'full': 0, 'hollywood': 0, 'entire': 0, 'ryan': 0, 'performances': 0, 'history': 0, 'feels': 0, 'must': 0, 'believe': 0, 'things': 19, 'movies': 32, 'orson': 0, 'plot': 0, 'andy': 55, 'acting': 23, 'could': 21, 'dont': 27, 'well': 22, 'seen': 32, 'important': 0, 'character': 0, 'greatest': 0, 'think': 19, 'coogler': 0, 'makes': 21, 'likely': 0, 'films': 25, 'red': 31, 'review': 0, 'best': 62, 'cinema': 0, 'two': 18, 'going': 21, 'people': 31, 'spanish': 0, 'action': 0, 'watch': 19, 'would': 21, 'marvel': 0, 'newspaper': 0}\n"
     ]
    }
   ],
   "source": [
    "# imdb\n",
    "dict_imdb = dict_total.copy()\n",
    "for i in list(dict_imdb.keys()):\n",
    "    if i in list(imdb_sorted_kw.keys()):\n",
    "        dict_imdb[i] = imdb_sorted_kw[i]\n",
    "print(dict_imdb)\n",
    "# print(dict_total)"
   ]
  },
  {
   "cell_type": "code",
   "execution_count": 138,
   "metadata": {},
   "outputs": [
    {
     "name": "stdout",
     "output_type": "stream",
     "text": [
      "{'new': 0, 'cultural': 0, 'every': 8, 'less': 0, 'good': 11, 'robbins': 0, 'really': 9, 'production': 0, 'panther': 0, 'story': 17, 'first': 8, 'redemption': 0, 'shot': 7, 'marvels': 0, 'masterpiece': 7, 'freeman': 0, 'cast': 0, 'prison': 0, 'kanes': 9, 'even': 8, 'black': 0, 'cooglers': 0, 'great': 15, 'welles': 20, 'date': 0, 'citizen': 29, 'love': 13, 'characters': 0, 'tim': 0, 'ever': 20, 'expand': 23, 'design': 0, 'flick': 0, 'cinematography': 8, 'life': 9, 'movie': 49, 'amazing': 9, 'something': 0, 'never': 0, 'blockbuster': 0, 'ruth': 0, 'get': 0, 'seem': 0, 'shawshank': 0, 'present': 7, 'say': 13, 'darabont': 0, 'superhero': 0, 'time': 29, 'set': 0, 'made': 17, 'morgan': 0, 'diversity': 0, 'feel': 0, 'special': 0, 'hope': 0, 'work': 9, 'still': 13, 'tell': 8, 'times': 0, 'camera': 8, 'king': 0, 'like': 10, 'kane': 53, 'charles': 7, 'charisma': 0, 'see': 18, 'years': 0, 'film': 75, 'way': 9, 'us': 0, 'many': 9, 'use': 11, 'full': 0, 'hollywood': 0, 'entire': 0, 'ryan': 0, 'performances': 8, 'history': 7, 'feels': 0, 'must': 8, 'believe': 0, 'things': 0, 'movies': 11, 'orson': 20, 'plot': 7, 'andy': 0, 'acting': 0, 'could': 0, 'dont': 0, 'well': 0, 'seen': 7, 'important': 0, 'character': 11, 'greatest': 12, 'think': 0, 'coogler': 0, 'makes': 0, 'likely': 0, 'films': 9, 'red': 0, 'review': 7, 'best': 16, 'cinema': 13, 'two': 0, 'going': 0, 'people': 0, 'spanish': 0, 'action': 0, 'watch': 16, 'would': 0, 'marvel': 0, 'newspaper': 7}\n"
     ]
    }
   ],
   "source": [
    "# meta\n",
    "dict_meta = dict_total.copy()\n",
    "for i in list(dict_meta.keys()):\n",
    "    if i in list(meta_sorted_kw.keys()):\n",
    "        dict_meta[i] = meta_sorted_kw[i]\n",
    "print(dict_meta)"
   ]
  },
  {
   "cell_type": "code",
   "execution_count": 139,
   "metadata": {},
   "outputs": [
    {
     "name": "stdout",
     "output_type": "stream",
     "text": [
      "{'new': 2, 'cultural': 3, 'every': 0, 'less': 3, 'good': 4, 'robbins': 0, 'really': 0, 'production': 2, 'panther': 17, 'story': 4, 'first': 0, 'redemption': 0, 'shot': 0, 'marvels': 3, 'masterpiece': 0, 'freeman': 0, 'cast': 3, 'prison': 0, 'kanes': 0, 'even': 0, 'black': 21, 'cooglers': 3, 'great': 0, 'welles': 0, 'date': 2, 'citizen': 0, 'love': 0, 'characters': 2, 'tim': 0, 'ever': 0, 'expand': 0, 'design': 3, 'flick': 2, 'cinematography': 0, 'life': 0, 'movie': 12, 'amazing': 0, 'something': 2, 'never': 0, 'blockbuster': 2, 'ruth': 2, 'get': 2, 'seem': 2, 'shawshank': 0, 'present': 0, 'say': 0, 'darabont': 0, 'superhero': 11, 'time': 3, 'set': 2, 'made': 0, 'morgan': 0, 'diversity': 3, 'feel': 0, 'special': 2, 'hope': 0, 'work': 2, 'still': 0, 'tell': 0, 'times': 0, 'camera': 0, 'king': 2, 'like': 4, 'kane': 0, 'charles': 0, 'charisma': 2, 'see': 3, 'years': 0, 'film': 9, 'way': 0, 'us': 0, 'many': 3, 'use': 0, 'full': 6, 'hollywood': 2, 'entire': 3, 'ryan': 4, 'performances': 0, 'history': 0, 'feels': 3, 'must': 0, 'believe': 2, 'things': 0, 'movies': 4, 'orson': 0, 'plot': 0, 'andy': 0, 'acting': 0, 'could': 0, 'dont': 0, 'well': 0, 'seen': 2, 'important': 5, 'character': 0, 'greatest': 0, 'think': 0, 'coogler': 5, 'makes': 0, 'likely': 2, 'films': 3, 'red': 0, 'review': 5, 'best': 6, 'cinema': 0, 'two': 0, 'going': 0, 'people': 0, 'spanish': 5, 'action': 4, 'watch': 0, 'would': 0, 'marvel': 8, 'newspaper': 0}\n"
     ]
    }
   ],
   "source": [
    "# rot\n",
    "dict_rot = dict_total.copy()\n",
    "for i in list(dict_meta.keys()):\n",
    "    if i in list(rot_sorted_kw.keys()):\n",
    "        dict_rot[i] = rot_sorted_kw[i]\n",
    "print(dict_rot)"
   ]
  },
  {
   "cell_type": "code",
   "execution_count": 114,
   "metadata": {},
   "outputs": [
    {
     "name": "stdout",
     "output_type": "stream",
     "text": [
      "[0, 0, 23, 0, 25, 35, 23, 0, 0, 40, 24, 55, 0, 0, 0, 37, 0, 72, 0, 0, 0, 0, 32, 0, 0, 0, 0, 0, 22, 42, 0, 0, 0, 0, 44, 143, 0, 0, 26, 0, 0, 23, 0, 95, 0, 22, 20, 0, 46, 0, 20, 26, 0, 20, 0, 52, 0, 0, 0, 19, 0, 0, 41, 0, 0, 0, 32, 29, 134, 23, 20, 37, 0, 0, 0, 0, 0, 0, 0, 0, 0, 0, 19, 32, 0, 0, 55, 23, 21, 27, 22, 32, 0, 0, 0, 19, 0, 21, 0, 25, 31, 0, 62, 0, 18, 21, 31, 0, 0, 19, 21, 0, 0]\n",
      "[0, 0, 8, 0, 11, 0, 9, 0, 0, 17, 8, 0, 7, 0, 7, 0, 0, 0, 9, 8, 0, 0, 15, 20, 0, 29, 13, 0, 0, 20, 23, 0, 0, 8, 9, 49, 9, 0, 0, 0, 0, 0, 0, 0, 7, 13, 0, 0, 29, 0, 17, 0, 0, 0, 0, 0, 9, 13, 8, 0, 8, 0, 10, 53, 7, 0, 18, 0, 75, 9, 0, 9, 11, 0, 0, 0, 0, 8, 7, 0, 8, 0, 0, 11, 20, 7, 0, 0, 0, 0, 0, 7, 0, 11, 12, 0, 0, 0, 0, 9, 0, 7, 16, 13, 0, 0, 0, 0, 0, 16, 0, 0, 7]\n",
      "[2, 3, 0, 3, 4, 0, 0, 2, 17, 4, 0, 0, 0, 3, 0, 0, 3, 0, 0, 0, 21, 3, 0, 0, 2, 0, 0, 2, 0, 0, 0, 3, 2, 0, 0, 12, 0, 2, 0, 2, 2, 2, 2, 0, 0, 0, 0, 11, 3, 2, 0, 0, 3, 0, 2, 0, 2, 0, 0, 0, 0, 2, 4, 0, 0, 2, 3, 0, 9, 0, 0, 3, 0, 6, 2, 3, 4, 0, 0, 3, 0, 2, 0, 4, 0, 0, 0, 0, 0, 0, 0, 2, 5, 0, 0, 0, 5, 0, 2, 3, 0, 5, 6, 0, 0, 0, 0, 5, 4, 0, 0, 8, 0]\n"
     ]
    }
   ],
   "source": [
    "# Get word frequency vectors\n",
    "imdb_wv = list(dict_imdb.values())\n",
    "print(imdb_wv)\n",
    "meta_wv = list(dict_meta.values())\n",
    "print(meta_wv)\n",
    "rot_wv = list(dict_rot.values())\n",
    "print(rot_wv)"
   ]
  },
  {
   "cell_type": "code",
   "execution_count": 115,
   "metadata": {},
   "outputs": [
    {
     "name": "stdout",
     "output_type": "stream",
     "text": [
      "Similarity score between reviews IMDB and Metacrirics 0.6010067032553557\n",
      "Similarity score between reviews IMDB and Rotten Tomatoes 0.3488813856404567\n",
      "Similarity score between reviews Rotten Tomatoes and Metacrirics 0.33040246776197557\n"
     ]
    }
   ],
   "source": [
    "# Find cosine similarity\n",
    "cosine_word_imdb_meta = 1 - spatial.distance.cosine(imdb_wv, meta_wv)\n",
    "cosine_word_imdb_rot = 1 - spatial.distance.cosine(imdb_wv, rot_wv)\n",
    "cosine_word_meta_rot = 1 - spatial.distance.cosine(meta_wv, rot_wv)\n",
    "print('Similarity score between reviews IMDB and Metacrirics',cosine_word_imdb_meta)\n",
    "print('Similarity score between reviews IMDB and Rotten Tomatoes',cosine_word_imdb_rot)\n",
    "print('Similarity score between reviews Rotten Tomatoes and Metacrirics',cosine_word_meta_rot)"
   ]
  },
  {
   "cell_type": "code",
   "execution_count": null,
   "metadata": {},
   "outputs": [],
   "source": []
  }
 ],
 "metadata": {
  "kernelspec": {
   "display_name": "Python 3",
   "language": "python",
   "name": "python3"
  },
  "language_info": {
   "codemirror_mode": {
    "name": "ipython",
    "version": 3
   },
   "file_extension": ".py",
   "mimetype": "text/x-python",
   "name": "python",
   "nbconvert_exporter": "python",
   "pygments_lexer": "ipython3",
   "version": "3.8.3"
  }
 },
 "nbformat": 4,
 "nbformat_minor": 4
}
